{
 "cells": [
  {
   "cell_type": "code",
   "execution_count": 1,
   "id": "6210db56-e62b-4d93-8f83-6e370b3c897f",
   "metadata": {},
   "outputs": [],
   "source": [
    "import json\n",
    "import networkx as nx\n",
    "import numpy as np\n",
    "import torch\n",
    "\n",
    "from models import PPN\n",
    "from maxcut import Cmax\n",
    "from strategies import PPN_1,PPN_2,ParameterListStrategy"
   ]
  },
  {
   "cell_type": "code",
   "execution_count": 2,
   "id": "1a87ecc0-da30-4449-9d4e-31dc6c449cdf",
   "metadata": {
    "tags": []
   },
   "outputs": [
    {
     "data": {
      "text/plain": [
       "PPN(\n",
       "  (us1): Conv2d(1, 16, kernel_size=(2, 2), stride=(1, 1), padding=(1, 1))\n",
       "  (us2): Conv2d(16, 64, kernel_size=(2, 2), stride=(1, 1), padding=(1, 1))\n",
       "  (act): ReLU(inplace=True)\n",
       "  (RBs_list): ModuleList(\n",
       "    (0): RB(\n",
       "      (conv1): Conv2d(64, 64, kernel_size=(3, 3), stride=(1, 1), padding=(1, 1))\n",
       "      (conv2): Conv2d(64, 64, kernel_size=(3, 3), stride=(1, 1), padding=(1, 1))\n",
       "      (act): ReLU(inplace=True)\n",
       "    )\n",
       "    (1): RB(\n",
       "      (conv1): Conv2d(64, 64, kernel_size=(3, 3), stride=(1, 1), padding=(1, 1))\n",
       "      (conv2): Conv2d(64, 64, kernel_size=(3, 3), stride=(1, 1), padding=(1, 1))\n",
       "      (act): ReLU(inplace=True)\n",
       "    )\n",
       "    (2): RB(\n",
       "      (conv1): Conv2d(64, 64, kernel_size=(3, 3), stride=(1, 1), padding=(1, 1))\n",
       "      (conv2): Conv2d(64, 64, kernel_size=(3, 3), stride=(1, 1), padding=(1, 1))\n",
       "      (act): ReLU(inplace=True)\n",
       "    )\n",
       "    (3): RB(\n",
       "      (conv1): Conv2d(64, 64, kernel_size=(3, 3), stride=(1, 1), padding=(1, 1))\n",
       "      (conv2): Conv2d(64, 64, kernel_size=(3, 3), stride=(1, 1), padding=(1, 1))\n",
       "      (act): ReLU(inplace=True)\n",
       "    )\n",
       "  )\n",
       "  (ds): Conv2d(64, 1, kernel_size=(3, 2), stride=(1, 1))\n",
       ")"
      ]
     },
     "execution_count": 2,
     "metadata": {},
     "output_type": "execute_result"
    }
   ],
   "source": [
    "model_path = './models/PPN_for_Set1.pth'\n",
    "# model_path = './models/PPN_for_Set2.pth'\n",
    "\n",
    "# load the model\n",
    "ppn = PPN(4)\n",
    "device = torch.device(\"cpu\")\n",
    "ppn.load_state_dict(torch.load(model_path,map_location=\"cpu\"))\n",
    "ppn.to(device)"
   ]
  },
  {
   "cell_type": "code",
   "execution_count": 3,
   "id": "9be72da0-26ff-426e-be3f-04e9ca2de36f",
   "metadata": {},
   "outputs": [],
   "source": [
    "with open('./problem_graphs/ProblemSet1.json', \"r\") as json_file:\n",
    "    problemset = json.load(json_file)\n",
    "# problemset['test']                  [node_number][edge_prob][seed]\n",
    "graph = nx.from_edgelist(problemset['test']['8']['gnp05']['73'])"
   ]
  },
  {
   "cell_type": "code",
   "execution_count": 4,
   "id": "a6d741a4-7e4b-4cda-ada8-c53c915b1093",
   "metadata": {},
   "outputs": [
    {
     "name": "stdout",
     "output_type": "stream",
     "text": [
      "Optimizing p =  1     ......\n"
     ]
    }
   ],
   "source": [
    "p1exp,p1param = ParameterListStrategy(graph,np.load('./p1_parameter_list/ProblemSet1.npy'),1)"
   ]
  },
  {
   "cell_type": "code",
   "execution_count": 5,
   "id": "ca3f3b47-2ce7-4c36-bd5a-90b451fb3723",
   "metadata": {},
   "outputs": [
    {
     "name": "stdout",
     "output_type": "stream",
     "text": [
      "Optimizing p =  10     ......\n",
      "PPN_1 Approx.Ratio:  0.9874075841735134\n"
     ]
    }
   ],
   "source": [
    "print('PPN_1 Approx.Ratio: ',PPN_1(graph,ppn,p1param,10)/Cmax(graph))"
   ]
  },
  {
   "cell_type": "code",
   "execution_count": 6,
   "id": "5e550fce-83cc-49a8-8d12-f9577edb0910",
   "metadata": {},
   "outputs": [
    {
     "name": "stdout",
     "output_type": "stream",
     "text": [
      "PPN_2 Approx.Ratio:  0.9808731557386325\n"
     ]
    }
   ],
   "source": [
    "print('PPN_2 Approx.Ratio: ',PPN_2(graph,ppn,p1param,p1exp)/Cmax(graph))"
   ]
  },
  {
   "cell_type": "code",
   "execution_count": null,
   "id": "7abbd006-d44a-4f61-9cda-585521431423",
   "metadata": {},
   "outputs": [],
   "source": []
  }
 ],
 "metadata": {
  "kernelspec": {
   "display_name": "Python 3 (ipykernel)",
   "language": "python",
   "name": "python3"
  },
  "language_info": {
   "codemirror_mode": {
    "name": "ipython",
    "version": 3
   },
   "file_extension": ".py",
   "mimetype": "text/x-python",
   "name": "python",
   "nbconvert_exporter": "python",
   "pygments_lexer": "ipython3",
   "version": "3.8.12"
  }
 },
 "nbformat": 4,
 "nbformat_minor": 5
}
